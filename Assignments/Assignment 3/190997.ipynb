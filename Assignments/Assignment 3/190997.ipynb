{
 "cells": [
  {
   "cell_type": "markdown",
   "metadata": {},
   "source": [
    "# CS771A Assignment 3\n",
    "\\- Yash Gupta (190997)"
   ]
  },
  {
   "cell_type": "markdown",
   "metadata": {},
   "source": [
    "## Q1. Perceptron Algorithm"
   ]
  },
  {
   "cell_type": "code",
   "execution_count": 2,
   "metadata": {},
   "outputs": [],
   "source": [
    "# importing libraries\n",
    "import numpy as np\n",
    "import pandas as pd\n",
    "from matplotlib import pyplot as plt"
   ]
  },
  {
   "cell_type": "markdown",
   "metadata": {},
   "source": [
    "Let's read the dataset."
   ]
  },
  {
   "cell_type": "code",
   "execution_count": 72,
   "id": "bc771a62",
   "metadata": {},
   "outputs": [
    {
     "data": {
      "text/plain": [
       "['variance', 'skewness', 'curtosis', 'entropy', 'class']"
      ]
     },
     "execution_count": 72,
     "metadata": {},
     "output_type": "execute_result"
    }
   ],
   "source": [
    "# names of the columns of the dataset\n",
    "cols = ['variance', 'skewness', 'curtosis', 'entropy', 'class']\n",
    "cols"
   ]
  },
  {
   "cell_type": "code",
   "execution_count": 73,
   "id": "1f16f5da",
   "metadata": {},
   "outputs": [
    {
     "data": {
      "text/html": [
       "<div>\n",
       "<style scoped>\n",
       "    .dataframe tbody tr th:only-of-type {\n",
       "        vertical-align: middle;\n",
       "    }\n",
       "\n",
       "    .dataframe tbody tr th {\n",
       "        vertical-align: top;\n",
       "    }\n",
       "\n",
       "    .dataframe thead th {\n",
       "        text-align: right;\n",
       "    }\n",
       "</style>\n",
       "<table border=\"1\" class=\"dataframe\">\n",
       "  <thead>\n",
       "    <tr style=\"text-align: right;\">\n",
       "      <th></th>\n",
       "      <th>variance</th>\n",
       "      <th>skewness</th>\n",
       "      <th>curtosis</th>\n",
       "      <th>entropy</th>\n",
       "      <th>class</th>\n",
       "    </tr>\n",
       "  </thead>\n",
       "  <tbody>\n",
       "    <tr>\n",
       "      <th>0</th>\n",
       "      <td>3.62160</td>\n",
       "      <td>8.66610</td>\n",
       "      <td>-2.8073</td>\n",
       "      <td>-0.44699</td>\n",
       "      <td>0</td>\n",
       "    </tr>\n",
       "    <tr>\n",
       "      <th>1</th>\n",
       "      <td>4.54590</td>\n",
       "      <td>8.16740</td>\n",
       "      <td>-2.4586</td>\n",
       "      <td>-1.46210</td>\n",
       "      <td>0</td>\n",
       "    </tr>\n",
       "    <tr>\n",
       "      <th>2</th>\n",
       "      <td>3.86600</td>\n",
       "      <td>-2.63830</td>\n",
       "      <td>1.9242</td>\n",
       "      <td>0.10645</td>\n",
       "      <td>0</td>\n",
       "    </tr>\n",
       "    <tr>\n",
       "      <th>3</th>\n",
       "      <td>3.45660</td>\n",
       "      <td>9.52280</td>\n",
       "      <td>-4.0112</td>\n",
       "      <td>-3.59440</td>\n",
       "      <td>0</td>\n",
       "    </tr>\n",
       "    <tr>\n",
       "      <th>4</th>\n",
       "      <td>0.32924</td>\n",
       "      <td>-4.45520</td>\n",
       "      <td>4.5718</td>\n",
       "      <td>-0.98880</td>\n",
       "      <td>0</td>\n",
       "    </tr>\n",
       "    <tr>\n",
       "      <th>...</th>\n",
       "      <td>...</td>\n",
       "      <td>...</td>\n",
       "      <td>...</td>\n",
       "      <td>...</td>\n",
       "      <td>...</td>\n",
       "    </tr>\n",
       "    <tr>\n",
       "      <th>1367</th>\n",
       "      <td>0.40614</td>\n",
       "      <td>1.34920</td>\n",
       "      <td>-1.4501</td>\n",
       "      <td>-0.55949</td>\n",
       "      <td>1</td>\n",
       "    </tr>\n",
       "    <tr>\n",
       "      <th>1368</th>\n",
       "      <td>-1.38870</td>\n",
       "      <td>-4.87730</td>\n",
       "      <td>6.4774</td>\n",
       "      <td>0.34179</td>\n",
       "      <td>1</td>\n",
       "    </tr>\n",
       "    <tr>\n",
       "      <th>1369</th>\n",
       "      <td>-3.75030</td>\n",
       "      <td>-13.45860</td>\n",
       "      <td>17.5932</td>\n",
       "      <td>-2.77710</td>\n",
       "      <td>1</td>\n",
       "    </tr>\n",
       "    <tr>\n",
       "      <th>1370</th>\n",
       "      <td>-3.56370</td>\n",
       "      <td>-8.38270</td>\n",
       "      <td>12.3930</td>\n",
       "      <td>-1.28230</td>\n",
       "      <td>1</td>\n",
       "    </tr>\n",
       "    <tr>\n",
       "      <th>1371</th>\n",
       "      <td>-2.54190</td>\n",
       "      <td>-0.65804</td>\n",
       "      <td>2.6842</td>\n",
       "      <td>1.19520</td>\n",
       "      <td>1</td>\n",
       "    </tr>\n",
       "  </tbody>\n",
       "</table>\n",
       "<p>1372 rows × 5 columns</p>\n",
       "</div>"
      ],
      "text/plain": [
       "      variance  skewness  curtosis  entropy  class\n",
       "0      3.62160   8.66610   -2.8073 -0.44699      0\n",
       "1      4.54590   8.16740   -2.4586 -1.46210      0\n",
       "2      3.86600  -2.63830    1.9242  0.10645      0\n",
       "3      3.45660   9.52280   -4.0112 -3.59440      0\n",
       "4      0.32924  -4.45520    4.5718 -0.98880      0\n",
       "...        ...       ...       ...      ...    ...\n",
       "1367   0.40614   1.34920   -1.4501 -0.55949      1\n",
       "1368  -1.38870  -4.87730    6.4774  0.34179      1\n",
       "1369  -3.75030 -13.45860   17.5932 -2.77710      1\n",
       "1370  -3.56370  -8.38270   12.3930 -1.28230      1\n",
       "1371  -2.54190  -0.65804    2.6842  1.19520      1\n",
       "\n",
       "[1372 rows x 5 columns]"
      ]
     },
     "execution_count": 73,
     "metadata": {},
     "output_type": "execute_result"
    }
   ],
   "source": [
    "# reading the data\n",
    "data = pd.read_csv('data_banknote_authentication.txt', names=cols)\n",
    "data"
   ]
  },
  {
   "cell_type": "markdown",
   "metadata": {},
   "source": [
    "## Q1. (a)\n",
    "Code up the perceptron algorithm described on slide 7 of Lecture 15 using the same notation as in the slides."
   ]
  },
  {
   "cell_type": "code",
   "execution_count": 74,
   "metadata": {},
   "outputs": [],
   "source": [
    "# the perceptron algorithm\n",
    "def perceptron_algo(X, y, thresh=10000, eta=1, max_iter=10000):\n",
    "    w = np.array([0.5, 0.5, 0.5, 0.5])\n",
    "    t = 0\n",
    "    t_mistake = 0\n",
    "    while t - t_mistake < thresh and t < max_iter:\n",
    "        idx = np.random.choice(np.arange(len(X)))\n",
    "        X_n = X.loc[idx, :]\n",
    "        y_n = y[idx]\n",
    "        if y_n * np.dot(w, X_n) < 0:\n",
    "            w += eta * y_n * X_n\n",
    "            t_mistake = t\n",
    "        t += 1\n",
    "    return w"
   ]
  },
  {
   "cell_type": "markdown",
   "metadata": {},
   "source": [
    "## Q1. (b)\n",
    "Write functions to make predictions using the algorithm for the banknotes dataset. Preprocess the dataset to handle missing and anomalous data."
   ]
  },
  {
   "cell_type": "code",
   "execution_count": 75,
   "metadata": {},
   "outputs": [],
   "source": [
    "# makes predictions using the given w\n",
    "def predict(w, X):\n",
    "    y = np.zeros(len(X))\n",
    "    for i in range(len(X)):\n",
    "        y[i] = 1 if np.dot(w, X.loc[i, :]) >= 0 else -1\n",
    "    return y"
   ]
  },
  {
   "cell_type": "code",
   "execution_count": 76,
   "metadata": {},
   "outputs": [],
   "source": [
    "# calculates the accuracy using the predicted and actual values\n",
    "def accuracy(y_pred, y_actual):\n",
    "    return (y_pred == y_actual).sum() / len(y_actual)"
   ]
  },
  {
   "cell_type": "markdown",
   "metadata": {},
   "source": [
    "Now, let's preprocess the dataset."
   ]
  },
  {
   "cell_type": "code",
   "execution_count": 77,
   "metadata": {},
   "outputs": [
    {
     "data": {
      "text/plain": [
       "variance    0\n",
       "skewness    0\n",
       "curtosis    0\n",
       "entropy     0\n",
       "class       0\n",
       "dtype: int64"
      ]
     },
     "execution_count": 77,
     "metadata": {},
     "output_type": "execute_result"
    }
   ],
   "source": [
    "# checking for missing data\n",
    "data.isnull().sum()"
   ]
  },
  {
   "cell_type": "markdown",
   "metadata": {},
   "source": [
    "There is no missing data."
   ]
  },
  {
   "cell_type": "code",
   "execution_count": 78,
   "metadata": {},
   "outputs": [
    {
     "data": {
      "text/plain": [
       "variance    float64\n",
       "skewness    float64\n",
       "curtosis    float64\n",
       "entropy     float64\n",
       "class         int64\n",
       "dtype: object"
      ]
     },
     "execution_count": 78,
     "metadata": {},
     "output_type": "execute_result"
    }
   ],
   "source": [
    "# checking the data types of the columns\n",
    "data.dtypes"
   ]
  },
  {
   "cell_type": "code",
   "execution_count": 79,
   "metadata": {},
   "outputs": [
    {
     "data": {
      "text/html": [
       "<div>\n",
       "<style scoped>\n",
       "    .dataframe tbody tr th:only-of-type {\n",
       "        vertical-align: middle;\n",
       "    }\n",
       "\n",
       "    .dataframe tbody tr th {\n",
       "        vertical-align: top;\n",
       "    }\n",
       "\n",
       "    .dataframe thead th {\n",
       "        text-align: right;\n",
       "    }\n",
       "</style>\n",
       "<table border=\"1\" class=\"dataframe\">\n",
       "  <thead>\n",
       "    <tr style=\"text-align: right;\">\n",
       "      <th></th>\n",
       "      <th>variance</th>\n",
       "      <th>skewness</th>\n",
       "      <th>curtosis</th>\n",
       "      <th>entropy</th>\n",
       "      <th>class</th>\n",
       "    </tr>\n",
       "  </thead>\n",
       "  <tbody>\n",
       "    <tr>\n",
       "      <th>0</th>\n",
       "      <td>3.62160</td>\n",
       "      <td>8.66610</td>\n",
       "      <td>-2.8073</td>\n",
       "      <td>-0.44699</td>\n",
       "      <td>-1</td>\n",
       "    </tr>\n",
       "    <tr>\n",
       "      <th>1</th>\n",
       "      <td>4.54590</td>\n",
       "      <td>8.16740</td>\n",
       "      <td>-2.4586</td>\n",
       "      <td>-1.46210</td>\n",
       "      <td>-1</td>\n",
       "    </tr>\n",
       "    <tr>\n",
       "      <th>2</th>\n",
       "      <td>3.86600</td>\n",
       "      <td>-2.63830</td>\n",
       "      <td>1.9242</td>\n",
       "      <td>0.10645</td>\n",
       "      <td>-1</td>\n",
       "    </tr>\n",
       "    <tr>\n",
       "      <th>3</th>\n",
       "      <td>3.45660</td>\n",
       "      <td>9.52280</td>\n",
       "      <td>-4.0112</td>\n",
       "      <td>-3.59440</td>\n",
       "      <td>-1</td>\n",
       "    </tr>\n",
       "    <tr>\n",
       "      <th>4</th>\n",
       "      <td>0.32924</td>\n",
       "      <td>-4.45520</td>\n",
       "      <td>4.5718</td>\n",
       "      <td>-0.98880</td>\n",
       "      <td>-1</td>\n",
       "    </tr>\n",
       "    <tr>\n",
       "      <th>...</th>\n",
       "      <td>...</td>\n",
       "      <td>...</td>\n",
       "      <td>...</td>\n",
       "      <td>...</td>\n",
       "      <td>...</td>\n",
       "    </tr>\n",
       "    <tr>\n",
       "      <th>1367</th>\n",
       "      <td>0.40614</td>\n",
       "      <td>1.34920</td>\n",
       "      <td>-1.4501</td>\n",
       "      <td>-0.55949</td>\n",
       "      <td>1</td>\n",
       "    </tr>\n",
       "    <tr>\n",
       "      <th>1368</th>\n",
       "      <td>-1.38870</td>\n",
       "      <td>-4.87730</td>\n",
       "      <td>6.4774</td>\n",
       "      <td>0.34179</td>\n",
       "      <td>1</td>\n",
       "    </tr>\n",
       "    <tr>\n",
       "      <th>1369</th>\n",
       "      <td>-3.75030</td>\n",
       "      <td>-13.45860</td>\n",
       "      <td>17.5932</td>\n",
       "      <td>-2.77710</td>\n",
       "      <td>1</td>\n",
       "    </tr>\n",
       "    <tr>\n",
       "      <th>1370</th>\n",
       "      <td>-3.56370</td>\n",
       "      <td>-8.38270</td>\n",
       "      <td>12.3930</td>\n",
       "      <td>-1.28230</td>\n",
       "      <td>1</td>\n",
       "    </tr>\n",
       "    <tr>\n",
       "      <th>1371</th>\n",
       "      <td>-2.54190</td>\n",
       "      <td>-0.65804</td>\n",
       "      <td>2.6842</td>\n",
       "      <td>1.19520</td>\n",
       "      <td>1</td>\n",
       "    </tr>\n",
       "  </tbody>\n",
       "</table>\n",
       "<p>1372 rows × 5 columns</p>\n",
       "</div>"
      ],
      "text/plain": [
       "      variance  skewness  curtosis  entropy  class\n",
       "0      3.62160   8.66610   -2.8073 -0.44699     -1\n",
       "1      4.54590   8.16740   -2.4586 -1.46210     -1\n",
       "2      3.86600  -2.63830    1.9242  0.10645     -1\n",
       "3      3.45660   9.52280   -4.0112 -3.59440     -1\n",
       "4      0.32924  -4.45520    4.5718 -0.98880     -1\n",
       "...        ...       ...       ...      ...    ...\n",
       "1367   0.40614   1.34920   -1.4501 -0.55949      1\n",
       "1368  -1.38870  -4.87730    6.4774  0.34179      1\n",
       "1369  -3.75030 -13.45860   17.5932 -2.77710      1\n",
       "1370  -3.56370  -8.38270   12.3930 -1.28230      1\n",
       "1371  -2.54190  -0.65804    2.6842  1.19520      1\n",
       "\n",
       "[1372 rows x 5 columns]"
      ]
     },
     "execution_count": 79,
     "metadata": {},
     "output_type": "execute_result"
    }
   ],
   "source": [
    "# changing the negative class label from 0 to -1\n",
    "data['class'].replace(0, -1, inplace=True)\n",
    "data"
   ]
  },
  {
   "cell_type": "code",
   "execution_count": 80,
   "metadata": {},
   "outputs": [
    {
     "data": {
      "text/html": [
       "<div>\n",
       "<style scoped>\n",
       "    .dataframe tbody tr th:only-of-type {\n",
       "        vertical-align: middle;\n",
       "    }\n",
       "\n",
       "    .dataframe tbody tr th {\n",
       "        vertical-align: top;\n",
       "    }\n",
       "\n",
       "    .dataframe thead th {\n",
       "        text-align: right;\n",
       "    }\n",
       "</style>\n",
       "<table border=\"1\" class=\"dataframe\">\n",
       "  <thead>\n",
       "    <tr style=\"text-align: right;\">\n",
       "      <th></th>\n",
       "      <th>variance</th>\n",
       "      <th>skewness</th>\n",
       "      <th>curtosis</th>\n",
       "      <th>entropy</th>\n",
       "      <th>class</th>\n",
       "    </tr>\n",
       "  </thead>\n",
       "  <tbody>\n",
       "    <tr>\n",
       "      <th>0</th>\n",
       "      <td>3.62160</td>\n",
       "      <td>8.66610</td>\n",
       "      <td>-2.80730</td>\n",
       "      <td>-0.44699</td>\n",
       "      <td>-1</td>\n",
       "    </tr>\n",
       "    <tr>\n",
       "      <th>1</th>\n",
       "      <td>4.54590</td>\n",
       "      <td>8.16740</td>\n",
       "      <td>-2.45860</td>\n",
       "      <td>-1.46210</td>\n",
       "      <td>-1</td>\n",
       "    </tr>\n",
       "    <tr>\n",
       "      <th>2</th>\n",
       "      <td>3.86600</td>\n",
       "      <td>-2.63830</td>\n",
       "      <td>1.92420</td>\n",
       "      <td>0.10645</td>\n",
       "      <td>-1</td>\n",
       "    </tr>\n",
       "    <tr>\n",
       "      <th>3</th>\n",
       "      <td>3.45660</td>\n",
       "      <td>9.52280</td>\n",
       "      <td>-4.01120</td>\n",
       "      <td>-3.59440</td>\n",
       "      <td>-1</td>\n",
       "    </tr>\n",
       "    <tr>\n",
       "      <th>4</th>\n",
       "      <td>0.32924</td>\n",
       "      <td>-4.45520</td>\n",
       "      <td>4.57180</td>\n",
       "      <td>-0.98880</td>\n",
       "      <td>-1</td>\n",
       "    </tr>\n",
       "    <tr>\n",
       "      <th>...</th>\n",
       "      <td>...</td>\n",
       "      <td>...</td>\n",
       "      <td>...</td>\n",
       "      <td>...</td>\n",
       "      <td>...</td>\n",
       "    </tr>\n",
       "    <tr>\n",
       "      <th>1363</th>\n",
       "      <td>-1.16670</td>\n",
       "      <td>-1.42370</td>\n",
       "      <td>2.92410</td>\n",
       "      <td>0.66119</td>\n",
       "      <td>1</td>\n",
       "    </tr>\n",
       "    <tr>\n",
       "      <th>1366</th>\n",
       "      <td>-2.41000</td>\n",
       "      <td>3.74330</td>\n",
       "      <td>-0.40215</td>\n",
       "      <td>-1.29530</td>\n",
       "      <td>1</td>\n",
       "    </tr>\n",
       "    <tr>\n",
       "      <th>1367</th>\n",
       "      <td>0.40614</td>\n",
       "      <td>1.34920</td>\n",
       "      <td>-1.45010</td>\n",
       "      <td>-0.55949</td>\n",
       "      <td>1</td>\n",
       "    </tr>\n",
       "    <tr>\n",
       "      <th>1368</th>\n",
       "      <td>-1.38870</td>\n",
       "      <td>-4.87730</td>\n",
       "      <td>6.47740</td>\n",
       "      <td>0.34179</td>\n",
       "      <td>1</td>\n",
       "    </tr>\n",
       "    <tr>\n",
       "      <th>1371</th>\n",
       "      <td>-2.54190</td>\n",
       "      <td>-0.65804</td>\n",
       "      <td>2.68420</td>\n",
       "      <td>1.19520</td>\n",
       "      <td>1</td>\n",
       "    </tr>\n",
       "  </tbody>\n",
       "</table>\n",
       "<p>1280 rows × 5 columns</p>\n",
       "</div>"
      ],
      "text/plain": [
       "      variance  skewness  curtosis  entropy  class\n",
       "0      3.62160   8.66610  -2.80730 -0.44699     -1\n",
       "1      4.54590   8.16740  -2.45860 -1.46210     -1\n",
       "2      3.86600  -2.63830   1.92420  0.10645     -1\n",
       "3      3.45660   9.52280  -4.01120 -3.59440     -1\n",
       "4      0.32924  -4.45520   4.57180 -0.98880     -1\n",
       "...        ...       ...       ...      ...    ...\n",
       "1363  -1.16670  -1.42370   2.92410  0.66119      1\n",
       "1366  -2.41000   3.74330  -0.40215 -1.29530      1\n",
       "1367   0.40614   1.34920  -1.45010 -0.55949      1\n",
       "1368  -1.38870  -4.87730   6.47740  0.34179      1\n",
       "1371  -2.54190  -0.65804   2.68420  1.19520      1\n",
       "\n",
       "[1280 rows x 5 columns]"
      ]
     },
     "execution_count": 80,
     "metadata": {},
     "output_type": "execute_result"
    }
   ],
   "source": [
    "# remove outliers using the interquartile range method\n",
    "q25, q75 = np.percentile(data.drop('class', axis=1), 25, axis=0), np.percentile(data.drop('class', axis=1), 75, axis=0)\n",
    "iqr = q75 - q25\n",
    "cut_off = iqr * 1.5\n",
    "lower, upper = q25 - cut_off, q75 + cut_off\n",
    "data = data.loc[[(((data.drop('class', axis=1).loc[i] >= lower) & (data.drop('class', axis=1).loc[i] <= upper)).sum() == 4) for i in range(len(data))], :]\n",
    "data"
   ]
  },
  {
   "cell_type": "code",
   "execution_count": 81,
   "metadata": {},
   "outputs": [
    {
     "name": "stderr",
     "output_type": "stream",
     "text": [
      "/home/yashbg/.local/lib/python3.9/site-packages/pandas/core/indexing.py:1676: SettingWithCopyWarning: \n",
      "A value is trying to be set on a copy of a slice from a DataFrame.\n",
      "Try using .loc[row_indexer,col_indexer] = value instead\n",
      "\n",
      "See the caveats in the documentation: https://pandas.pydata.org/pandas-docs/stable/user_guide/indexing.html#returning-a-view-versus-a-copy\n",
      "  self._setitem_single_column(ilocs[0], value, pi)\n"
     ]
    },
    {
     "data": {
      "text/html": [
       "<div>\n",
       "<style scoped>\n",
       "    .dataframe tbody tr th:only-of-type {\n",
       "        vertical-align: middle;\n",
       "    }\n",
       "\n",
       "    .dataframe tbody tr th {\n",
       "        vertical-align: top;\n",
       "    }\n",
       "\n",
       "    .dataframe thead th {\n",
       "        text-align: right;\n",
       "    }\n",
       "</style>\n",
       "<table border=\"1\" class=\"dataframe\">\n",
       "  <thead>\n",
       "    <tr style=\"text-align: right;\">\n",
       "      <th></th>\n",
       "      <th>variance</th>\n",
       "      <th>skewness</th>\n",
       "      <th>curtosis</th>\n",
       "      <th>entropy</th>\n",
       "      <th>class</th>\n",
       "    </tr>\n",
       "  </thead>\n",
       "  <tbody>\n",
       "    <tr>\n",
       "      <th>0</th>\n",
       "      <td>1.078409</td>\n",
       "      <td>1.202941</td>\n",
       "      <td>-1.037066</td>\n",
       "      <td>0.299985</td>\n",
       "      <td>-1</td>\n",
       "    </tr>\n",
       "    <tr>\n",
       "      <th>1</th>\n",
       "      <td>1.423167</td>\n",
       "      <td>1.109087</td>\n",
       "      <td>-0.939557</td>\n",
       "      <td>-0.229004</td>\n",
       "      <td>-1</td>\n",
       "    </tr>\n",
       "    <tr>\n",
       "      <th>2</th>\n",
       "      <td>1.169569</td>\n",
       "      <td>-0.924506</td>\n",
       "      <td>0.286027</td>\n",
       "      <td>0.588391</td>\n",
       "      <td>-1</td>\n",
       "    </tr>\n",
       "    <tr>\n",
       "      <th>3</th>\n",
       "      <td>1.016865</td>\n",
       "      <td>1.364168</td>\n",
       "      <td>-1.373718</td>\n",
       "      <td>-1.340177</td>\n",
       "      <td>-1</td>\n",
       "    </tr>\n",
       "    <tr>\n",
       "      <th>4</th>\n",
       "      <td>-0.149622</td>\n",
       "      <td>-1.266440</td>\n",
       "      <td>1.026388</td>\n",
       "      <td>0.017640</td>\n",
       "      <td>-1</td>\n",
       "    </tr>\n",
       "    <tr>\n",
       "      <th>...</th>\n",
       "      <td>...</td>\n",
       "      <td>...</td>\n",
       "      <td>...</td>\n",
       "      <td>...</td>\n",
       "      <td>...</td>\n",
       "    </tr>\n",
       "    <tr>\n",
       "      <th>1363</th>\n",
       "      <td>-0.707598</td>\n",
       "      <td>-0.695923</td>\n",
       "      <td>0.565634</td>\n",
       "      <td>0.877474</td>\n",
       "      <td>1</td>\n",
       "    </tr>\n",
       "    <tr>\n",
       "      <th>1366</th>\n",
       "      <td>-1.171342</td>\n",
       "      <td>0.276488</td>\n",
       "      <td>-0.364502</td>\n",
       "      <td>-0.142082</td>\n",
       "      <td>1</td>\n",
       "    </tr>\n",
       "    <tr>\n",
       "      <th>1367</th>\n",
       "      <td>-0.120939</td>\n",
       "      <td>-0.174073</td>\n",
       "      <td>-0.657545</td>\n",
       "      <td>0.241360</td>\n",
       "      <td>1</td>\n",
       "    </tr>\n",
       "    <tr>\n",
       "      <th>1368</th>\n",
       "      <td>-0.790403</td>\n",
       "      <td>-1.345878</td>\n",
       "      <td>1.559261</td>\n",
       "      <td>0.711030</td>\n",
       "      <td>1</td>\n",
       "    </tr>\n",
       "    <tr>\n",
       "      <th>1371</th>\n",
       "      <td>-1.220540</td>\n",
       "      <td>-0.551828</td>\n",
       "      <td>0.498549</td>\n",
       "      <td>1.155755</td>\n",
       "      <td>1</td>\n",
       "    </tr>\n",
       "  </tbody>\n",
       "</table>\n",
       "<p>1280 rows × 5 columns</p>\n",
       "</div>"
      ],
      "text/plain": [
       "      variance  skewness  curtosis   entropy  class\n",
       "0     1.078409  1.202941 -1.037066  0.299985     -1\n",
       "1     1.423167  1.109087 -0.939557 -0.229004     -1\n",
       "2     1.169569 -0.924506  0.286027  0.588391     -1\n",
       "3     1.016865  1.364168 -1.373718 -1.340177     -1\n",
       "4    -0.149622 -1.266440  1.026388  0.017640     -1\n",
       "...        ...       ...       ...       ...    ...\n",
       "1363 -0.707598 -0.695923  0.565634  0.877474      1\n",
       "1366 -1.171342  0.276488 -0.364502 -0.142082      1\n",
       "1367 -0.120939 -0.174073 -0.657545  0.241360      1\n",
       "1368 -0.790403 -1.345878  1.559261  0.711030      1\n",
       "1371 -1.220540 -0.551828  0.498549  1.155755      1\n",
       "\n",
       "[1280 rows x 5 columns]"
      ]
     },
     "execution_count": 81,
     "metadata": {},
     "output_type": "execute_result"
    }
   ],
   "source": [
    "# standardizing the features except the target variable\n",
    "for col in cols[:-1]:\n",
    "    data.loc[:, col] = (data.loc[:, col] - data.loc[:, col].mean()) / data.loc[:, col].std()\n",
    "data"
   ]
  },
  {
   "cell_type": "code",
   "execution_count": 82,
   "metadata": {},
   "outputs": [],
   "source": [
    "X = data.drop('class', axis=1)\n",
    "y = data['class']"
   ]
  },
  {
   "cell_type": "markdown",
   "metadata": {},
   "source": [
    "## Q1. (c)\n",
    "Train the algorithm on the dataset using cross-validation and report cross-validated test set error"
   ]
  },
  {
   "cell_type": "markdown",
   "metadata": {},
   "source": [
    "Let's prepare the training, validation and test data. "
   ]
  },
  {
   "cell_type": "code",
   "execution_count": 83,
   "metadata": {},
   "outputs": [
    {
     "data": {
      "text/html": [
       "<div>\n",
       "<style scoped>\n",
       "    .dataframe tbody tr th:only-of-type {\n",
       "        vertical-align: middle;\n",
       "    }\n",
       "\n",
       "    .dataframe tbody tr th {\n",
       "        vertical-align: top;\n",
       "    }\n",
       "\n",
       "    .dataframe thead th {\n",
       "        text-align: right;\n",
       "    }\n",
       "</style>\n",
       "<table border=\"1\" class=\"dataframe\">\n",
       "  <thead>\n",
       "    <tr style=\"text-align: right;\">\n",
       "      <th></th>\n",
       "      <th>variance</th>\n",
       "      <th>skewness</th>\n",
       "      <th>curtosis</th>\n",
       "      <th>entropy</th>\n",
       "      <th>class</th>\n",
       "    </tr>\n",
       "  </thead>\n",
       "  <tbody>\n",
       "    <tr>\n",
       "      <th>137</th>\n",
       "      <td>1.604480</td>\n",
       "      <td>1.115712</td>\n",
       "      <td>-0.986256</td>\n",
       "      <td>-0.005967</td>\n",
       "      <td>-1</td>\n",
       "    </tr>\n",
       "    <tr>\n",
       "      <th>1213</th>\n",
       "      <td>-1.249671</td>\n",
       "      <td>-1.718168</td>\n",
       "      <td>1.486416</td>\n",
       "      <td>0.208342</td>\n",
       "      <td>1</td>\n",
       "    </tr>\n",
       "    <tr>\n",
       "      <th>405</th>\n",
       "      <td>-0.052427</td>\n",
       "      <td>0.969671</td>\n",
       "      <td>0.093386</td>\n",
       "      <td>-1.009321</td>\n",
       "      <td>-1</td>\n",
       "    </tr>\n",
       "    <tr>\n",
       "      <th>255</th>\n",
       "      <td>1.272701</td>\n",
       "      <td>-1.120400</td>\n",
       "      <td>0.818424</td>\n",
       "      <td>1.382179</td>\n",
       "      <td>-1</td>\n",
       "    </tr>\n",
       "    <tr>\n",
       "      <th>1019</th>\n",
       "      <td>-0.577237</td>\n",
       "      <td>0.208342</td>\n",
       "      <td>-1.277860</td>\n",
       "      <td>-1.268054</td>\n",
       "      <td>1</td>\n",
       "    </tr>\n",
       "    <tr>\n",
       "      <th>...</th>\n",
       "      <td>...</td>\n",
       "      <td>...</td>\n",
       "      <td>...</td>\n",
       "      <td>...</td>\n",
       "      <td>...</td>\n",
       "    </tr>\n",
       "    <tr>\n",
       "      <th>732</th>\n",
       "      <td>-1.284844</td>\n",
       "      <td>1.727519</td>\n",
       "      <td>0.337759</td>\n",
       "      <td>-1.532207</td>\n",
       "      <td>-1</td>\n",
       "    </tr>\n",
       "    <tr>\n",
       "      <th>945</th>\n",
       "      <td>-0.932514</td>\n",
       "      <td>0.218072</td>\n",
       "      <td>-0.591635</td>\n",
       "      <td>-0.706762</td>\n",
       "      <td>1</td>\n",
       "    </tr>\n",
       "    <tr>\n",
       "      <th>1161</th>\n",
       "      <td>-0.009503</td>\n",
       "      <td>-0.395667</td>\n",
       "      <td>-0.751447</td>\n",
       "      <td>0.721140</td>\n",
       "      <td>1</td>\n",
       "    </tr>\n",
       "    <tr>\n",
       "      <th>242</th>\n",
       "      <td>0.339508</td>\n",
       "      <td>0.239884</td>\n",
       "      <td>0.138435</td>\n",
       "      <td>0.343107</td>\n",
       "      <td>-1</td>\n",
       "    </tr>\n",
       "    <tr>\n",
       "      <th>1117</th>\n",
       "      <td>-1.013976</td>\n",
       "      <td>-0.239895</td>\n",
       "      <td>-0.331916</td>\n",
       "      <td>0.167909</td>\n",
       "      <td>1</td>\n",
       "    </tr>\n",
       "  </tbody>\n",
       "</table>\n",
       "<p>1280 rows × 5 columns</p>\n",
       "</div>"
      ],
      "text/plain": [
       "      variance  skewness  curtosis   entropy  class\n",
       "137   1.604480  1.115712 -0.986256 -0.005967     -1\n",
       "1213 -1.249671 -1.718168  1.486416  0.208342      1\n",
       "405  -0.052427  0.969671  0.093386 -1.009321     -1\n",
       "255   1.272701 -1.120400  0.818424  1.382179     -1\n",
       "1019 -0.577237  0.208342 -1.277860 -1.268054      1\n",
       "...        ...       ...       ...       ...    ...\n",
       "732  -1.284844  1.727519  0.337759 -1.532207     -1\n",
       "945  -0.932514  0.218072 -0.591635 -0.706762      1\n",
       "1161 -0.009503 -0.395667 -0.751447  0.721140      1\n",
       "242   0.339508  0.239884  0.138435  0.343107     -1\n",
       "1117 -1.013976 -0.239895 -0.331916  0.167909      1\n",
       "\n",
       "[1280 rows x 5 columns]"
      ]
     },
     "execution_count": 83,
     "metadata": {},
     "output_type": "execute_result"
    }
   ],
   "source": [
    "# shuffling the rows of the dataframe\n",
    "data_shuffle = data.sample(frac=1, random_state=1)\n",
    "data_shuffle"
   ]
  },
  {
   "cell_type": "code",
   "execution_count": 84,
   "metadata": {},
   "outputs": [],
   "source": [
    "# performing train-test split with 20% of the data as the test data\n",
    "train_size = int(0.8 * len(data))\n",
    "data_train = data_shuffle[:train_size].reset_index(drop=True)\n",
    "data_test = data_shuffle[train_size:].reset_index(drop=True)"
   ]
  },
  {
   "cell_type": "markdown",
   "metadata": {},
   "source": [
    "Now, let's perform the cross-validation. We will assume the learning rate `eta` to be fixed as 1 and tune the hyperparameter `thresh` which is the number of no-mistake iterations after which we can say that the algorithm has converged. "
   ]
  },
  {
   "cell_type": "code",
   "execution_count": 86,
   "metadata": {},
   "outputs": [],
   "source": [
    "# # splits the dataset for cross-validation\n",
    "# def data_split(data):\n",
    "#     data_shuffle = data.sample(frac=1)\n",
    "#     data_shuffle\n",
    "#     train_size = int(0.8 * len(data))\n",
    "#     data_train = data_shuffle[:train_size].reset_index(drop=True)\n",
    "#     data_val = data_shuffle[train_size:].reset_index(drop=True)\n",
    "#     return data_train, data_val"
   ]
  },
  {
   "cell_type": "code",
   "execution_count": 88,
   "metadata": {},
   "outputs": [
    {
     "name": "stdout",
     "output_type": "stream",
     "text": [
      "The cross-validated accuracy is 0.9717073170731707 using a threshold of 150\n"
     ]
    }
   ],
   "source": [
    "# accuracy_dict = {}\n",
    "# for k in range(5):\n",
    "#     data_train_crossval, data_val = data_split(data_train)\n",
    "#     X_train = data_train_crossval.drop('class', axis=1)\n",
    "#     y_train = data_train_crossval['class']\n",
    "#     X_val = data_val.drop('class', axis=1)\n",
    "#     y_val = data_val['class']\n",
    "#     for thresh in range(50, 500, 50):\n",
    "#         if k == 0:\n",
    "#             accuracy_dict[thresh] = 0\n",
    "#         w = perceptron_algo(X_train, y_train, thresh, 1, 10000)\n",
    "#         y_pred = predict(w, X_val)\n",
    "#         acc = accuracy(y_pred, y_val)\n",
    "#         accuracy_dict[thresh] += acc\n",
    "# best_acc = 0\n",
    "# best_thresh = 0\n",
    "# for thresh, acc in accuracy_dict.items():\n",
    "#     acc /= 5\n",
    "#     if acc > best_acc:\n",
    "#         best_acc = acc\n",
    "#         best_thresh = thresh\n",
    "# print('The cross-validated accuracy is', best_acc, 'using a threshold of', best_thresh)"
   ]
  },
  {
   "cell_type": "code",
   "execution_count": 103,
   "metadata": {},
   "outputs": [
    {
     "name": "stdout",
     "output_type": "stream",
     "text": [
      "The cross-validated accuracy is 0.9715686274509803 using a threshold of 300\n"
     ]
    }
   ],
   "source": [
    "k = 5\n",
    "fold_size = int(len(data_train) / k)\n",
    "accuracy_dict = {}\n",
    "for i in range(k):\n",
    "    val_idx = list(range(i * fold_size, (i + 1) * fold_size))\n",
    "    train_idx = list(range(0, len(data_train)))\n",
    "    idx = list(set(train_idx) - set(val_idx))\n",
    "    data_train_crossval = data_train.loc[train_idx, :].reset_index(drop=True)\n",
    "    data_val = data_train.loc[val_idx, :].reset_index(drop=True)\n",
    "    X_train = data_train_crossval.drop('class', axis=1)\n",
    "    y_train = data_train_crossval['class']\n",
    "    X_val = data_val.drop('class', axis=1)\n",
    "    y_val = data_val['class']\n",
    "\n",
    "    for thresh in range(50, 500, 50):\n",
    "        if i == 0:\n",
    "            accuracy_dict[thresh] = 0\n",
    "        w = perceptron_algo(X_train, y_train, thresh, 1, 10000)\n",
    "        y_pred = predict(w, X_val)\n",
    "        acc = accuracy(y_pred, y_val)\n",
    "        accuracy_dict[thresh] += acc\n",
    "best_acc = 0\n",
    "best_thresh = 0\n",
    "for thresh, acc in accuracy_dict.items():\n",
    "    acc /= 5\n",
    "    if acc > best_acc:\n",
    "        best_acc = acc\n",
    "        best_thresh = thresh\n",
    "print('The cross-validated accuracy is', best_acc, 'using a threshold of', best_thresh)"
   ]
  },
  {
   "cell_type": "markdown",
   "metadata": {},
   "source": [
    "## Q1. (d)\n",
    "Ensure you use a held out validation set and report F1 score on the held out set for your best model"
   ]
  },
  {
   "cell_type": "markdown",
   "metadata": {},
   "source": [
    "Let's run the perceptron algorithm on the test set using the optimal threshold we got from cross-validation. "
   ]
  },
  {
   "cell_type": "code",
   "execution_count": 104,
   "metadata": {},
   "outputs": [
    {
     "name": "stdout",
     "output_type": "stream",
     "text": [
      "The test set accuracy is 0.984375 using a threshold of 300\n"
     ]
    }
   ],
   "source": [
    "X_train = data_train.drop('class', axis=1)\n",
    "y_train = data_train['class']\n",
    "X_test = data_test.drop('class', axis=1)\n",
    "y_test = data_test['class']\n",
    "w = perceptron_algo(X_train, y_train, best_thresh, 1, 10000)\n",
    "y_pred = predict(w, X_test)\n",
    "acc = accuracy(y_pred, y_test)\n",
    "print('The test set accuracy is', acc, 'using a threshold of', best_thresh)"
   ]
  },
  {
   "cell_type": "markdown",
   "metadata": {},
   "source": [
    "Now, let's find the F1 score."
   ]
  },
  {
   "cell_type": "code",
   "execution_count": 105,
   "metadata": {},
   "outputs": [
    {
     "name": "stdout",
     "output_type": "stream",
     "text": [
      "F1 score on the test set is 0.9814814814814815 using a threshold of 300\n"
     ]
    }
   ],
   "source": [
    "tp = ((y_pred == y_test) & (y_test == 1)).sum()\n",
    "fn = ((y_pred != y_test) & (y_test == 1)).sum()\n",
    "fp = ((y_pred != y_test) & (y_test == -1)).sum()\n",
    "tn = ((y_pred == y_test) & (y_test == -1)).sum()\n",
    "p = tp / (tp + fp)\n",
    "r = tp / (tp + fn)\n",
    "f1 = 2 * p * r / (p + r)\n",
    "print('F1 score on the test set is', f1, 'using a threshold of', best_thresh)"
   ]
  },
  {
   "cell_type": "markdown",
   "metadata": {},
   "source": [
    "## Q2. MCMC Sampling"
   ]
  },
  {
   "cell_type": "markdown",
   "metadata": {},
   "source": [
    "## Q2. (a)\n",
    "Write a function to calculate the Bayesian posterior probability given 50 new data samples drawn from a normal distribution with mean 10 and SD 5, assuming a normal prior with mean 25 and s.d. 5. Plot the pdfs of the prior, the likelihood and the posterior distributions. Explain how you derive the likelihood from the data."
   ]
  },
  {
   "cell_type": "markdown",
   "metadata": {},
   "source": [
    "Normal Distribution:\n",
    "$$ p(x | \\mu, \\sigma^2) = \\frac{1}{\\sigma \\sqrt{2 \\pi}} \\exp \\left( - \\frac{1}{2} \\left( \\frac{x - \\mu}{\\sigma} \\right)^2 \\right) $$"
   ]
  },
  {
   "cell_type": "markdown",
   "metadata": {},
   "source": [
    "Normal likelihood:\n",
    "$$ p(\\textbf{y} | \\mu, \\sigma^2) = \\prod_{n = 1}^N p(y_n | \\mu, \\sigma) = \\frac{1}{\\sigma^N (2 \\pi)^{\\frac{N}{2}}} \\exp \\left(- \\frac{1}{2 \\sigma^2} \\sum_{n = 1}^N \\left( y_n - \\mu \\right)^2 \\right) $$\n",
    "$$ = \\frac{1}{\\sigma^N (2 \\pi)^{\\frac{N}{2}}} \\exp \\left( - \\frac{1}{2 \\sigma^2} \\left( \\sum_n y_n^2 - 2 \\mu \\sum_n y_n + N \\mu^2 \\right) \\right) $$\n",
    "$$ = \\frac{1}{\\sigma^N (2 \\pi)^{\\frac{N}{2}}} \\exp \\left( - \\frac{1}{2 \\sigma^2} \\sum_n y_n^2 \\right) \\exp \\left( - \\frac{N}{2 \\sigma^2} \\left(- 2 \\mu \\overline{y} + \\mu^2 \\right) \\right) $$\n",
    "$$ = \\frac{1}{\\sigma^N (2 \\pi)^{\\frac{N}{2}}} \\exp \\left( - \\frac{1}{2 \\sigma^2} \\left( \\sum_n y_n^2 - N \\overline{y}^2 \\right) \\right) \\exp \\left( - \\frac{N}{2 \\sigma^2} (\\mu - \\overline{y})^2 \\right) $$\n",
    "$$ \\propto \\exp \\left( - \\frac{N}{2 \\sigma^2} (\\mu - \\overline{y})^2 \\right) $$\n",
    "$$ \\propto N \\left( \\overline{y}, \\frac{\\sigma^2}{N} \\right) $$"
   ]
  },
  {
   "cell_type": "markdown",
   "metadata": {},
   "source": [
    "Normal prior:\n",
    "$$ p(\\mu | \\mu_0, \\sigma_0^2) = \\frac{1}{\\sigma_0 \\sqrt{2 \\pi}} \\exp \\left( - \\frac{1}{2} \\left( \\frac{\\mu - \\mu_0}{\\sigma_0} \\right)^2 \\right) $$\n",
    "<!-- $$ p(\\mu | \\mu_0, \\sigma_0^2) = p(\\mu | 25, 25) = \\frac{1}{5 \\sqrt{2 \\pi}} \\exp \\left( - \\frac{1}{2} \\left( \\frac{\\mu - 25}{5} \\right)^2 \\right) $$ -->"
   ]
  },
  {
   "cell_type": "markdown",
   "metadata": {},
   "source": [
    "Posterior:\n",
    "$$ p(\\mu | \\textbf{y}) = \\frac{p(\\mu) p(\\textbf{y} | \\mu)}{p(\\textbf{y})} $$\n",
    "$$ \\propto p(\\mu) p(\\textbf{y} | \\mu) $$\n",
    "<!-- $$ \\propto p(\\mu) p(\\overline{y} | \\mu) $$ -->\n",
    "<!-- $$ \\propto p(\\overline{y}) p(\\mu | \\overline{y}) $$\n",
    "$$ \\propto p(\\mu | \\overline{y}) $$ -->\n",
    "$$ \\propto \\exp \\left( - \\frac{1}{2} \\left( \\frac{\\mu - \\mu_0}{\\sigma_0} \\right)^2 \\right) \\exp \\left( - \\frac{N}{2 \\sigma^2} (\\mu - \\overline{y})^2 \\right) $$\n",
    "$$ \\propto \\exp \\left( - \\frac{1}{2} \\left( \\left( \\frac{\\mu - \\mu_0}{\\sigma_0} \\right)^2 + \\left( \\frac{N}{\\sigma^2} (\\mu - \\overline{y})^2 \\right) \\right) \\right) $$\n",
    "$$ \\propto \\exp \\left( - \\frac{1}{2} \\left( \\frac{\\mu^2}{\\sigma_0^2} - \\frac{2 \\mu \\mu_0}{\\sigma_0^2} + \\frac{\\mu_0^2}{\\sigma_0^2} + \\frac{N \\overline{y}^2}{\\sigma^2} - \\frac{2 N \\overline{y} \\mu}{\\sigma^2} + \\frac{N \\mu^2}{\\sigma^2} \\right) \\right) $$\n",
    "$$ \\propto \\exp \\left( - \\frac{1}{2} \\left( \\left( \\frac{1}{\\sigma_0^2} + \\frac{N}{\\sigma^2} \\right) \\mu^2 - 2 \\left( \\frac{\\mu_0}{\\sigma_0^2} + \\frac{N \\overline{y}}{\\sigma^2} \\right) \\mu + \\left( \\frac{\\mu_0^2}{\\sigma_0^2} + \\frac{N \\overline{y}^2}{\\sigma^2} \\right) \\right) \\right) $$\n",
    "$$ \\propto \\exp \\left( - \\frac{1}{2} \\left( \\frac{1}{\\sigma_0^2} + \\frac{N}{\\sigma^2} \\right) \\left( \\mu^2 - 2 \\left( \\frac{\\frac{\\mu_0}{\\sigma_0^2} + \\frac{N \\overline{y}}{\\sigma^2}}{\\frac{1}{\\sigma_0^2} + \\frac{N}{\\sigma^2}} \\right) \\mu + \\frac{\\frac{\\mu_0^2}{\\sigma_0^2} + \\frac{N \\overline{y}^2}{\\sigma^2}}{\\frac{1}{\\sigma_0^2} + \\frac{N}{\\sigma^2}} \\right) \\right) $$\n",
    "$$ \\propto \\exp \\left( - \\frac{1}{2} \\left( \\frac{1}{\\sigma_0^2} + \\frac{N}{\\sigma^2} \\right) \\left( \\mu - \\frac{\\frac{\\mu_0}{\\sigma_0^2} + \\frac{N \\overline{y}}{\\sigma^2}}{\\frac{1}{\\sigma_0^2} + \\frac{N}{\\sigma^2}} \\right)^2 \\right) $$\n",
    "$$ \\propto \\exp \\left( - \\frac{1}{2} \\frac{\\left( \\mu - \\frac{\\frac{\\mu_0}{\\sigma_0^2} + \\frac{N \\overline{y}}{\\sigma^2}}{\\frac{1}{\\sigma_0^2} + \\frac{N}{\\sigma^2}} \\right)^2}{\\left( \\frac{1}{\\sigma_0^2} + \\frac{N}{\\sigma^2} \\right)^{-1}} \\right) $$\n",
    "\n",
    "<!-- where\n",
    "$$ p(\\textbf{y}) = \\int p(\\mu) p(\\textbf{y} | \\mu) d \\theta $$\n",
    "\n",
    "Hence, \n",
    "$$ p(\\mu | \\textbf{y}) = \\frac{\\frac{1}{5 \\sqrt{2 \\pi}} \\exp \\left(- \\frac{1}{2} \\left( \\frac{\\mu - 25}{5} \\right)^2 \\right) \\frac{1}{\\sigma^N (2 \\pi)^{\\frac{N}{2}}} \\exp \\left( - \\frac{1}{2 \\sigma^2} \\sum_{n = 1}^N \\left( y_n - \\mu \\right)^2 \\right)}{p(\\textbf{y})} $$ -->"
   ]
  },
  {
   "cell_type": "markdown",
   "metadata": {},
   "source": [
    "Hence, Posterior:\n",
    "$$ p(\\mu | \\textbf{y}) \\sim N(\\mu_1, \\sigma_1^2) = \\frac{1}{\\sigma_1 \\sqrt{2 \\pi}} \\exp \\left( - \\frac{1}{2} \\left( \\frac{\\mu - \\mu_1}{\\sigma_1} \\right)^2 \\right) $$\n",
    "where\n",
    "$$ \\mu_1 = \\frac{\\frac{\\mu_0}{\\sigma_0^2} + \\frac{N \\overline{y}}{\\sigma^2}}{\\frac{1}{\\sigma_0^2} + \\frac{N}{\\sigma^2}} $$\n",
    "$$ \\sigma_1^2 = \\left( \\frac{1}{\\sigma_0^2} + \\frac{N}{\\sigma^2} \\right)^{-1} $$"
   ]
  },
  {
   "cell_type": "markdown",
   "metadata": {},
   "source": [
    "Now, let's create the functions to calculate the normal, likelihood and posterior. "
   ]
  },
  {
   "cell_type": "code",
   "execution_count": 13,
   "metadata": {},
   "outputs": [],
   "source": [
    "def normal(x, mu=0, sigma=1):\n",
    "    exp = -(((x - mu) / sigma) ** 2) / 2\n",
    "    p = np.exp(exp) / (sigma * np.sqrt(2 * np.pi))\n",
    "    return p"
   ]
  },
  {
   "cell_type": "markdown",
   "metadata": {},
   "source": [
    "We saw above that the normal likelihood is proportional to $ N(\\overline{y}, \\frac{\\sigma^2}{N}) $. Hence, we will plot the likelihood as $ N(\\overline{y}, \\frac{\\sigma^2}{N}) $ because $ \\prod_{n = 1}^N p(y_n | \\mu, \\sigma) $ will give a very small likelihood which would have to be scaled up anyway to be able to be compared with the prior and the posterior. "
   ]
  },
  {
   "cell_type": "code",
   "execution_count": 14,
   "metadata": {},
   "outputs": [],
   "source": [
    "# def likelihood(mu, y, sigma=1):\n",
    "#     l = 1\n",
    "#     for y_n in y:\n",
    "#         l *= normal(y_n, mu, sigma)\n",
    "#     return l"
   ]
  },
  {
   "cell_type": "code",
   "execution_count": 15,
   "metadata": {},
   "outputs": [],
   "source": [
    "def likelihood(mu, y, sigma=1):\n",
    "    n = len(y)\n",
    "    y_bar = 0\n",
    "    for y_n in y:\n",
    "        y_bar += y_n\n",
    "    y_bar /= n\n",
    "\n",
    "    sigma_l = sigma / np.sqrt(n)\n",
    "    l = normal(mu, y_bar, sigma_l)\n",
    "    return l"
   ]
  },
  {
   "cell_type": "code",
   "execution_count": 16,
   "metadata": {},
   "outputs": [],
   "source": [
    "def posterior(mu, y, mu0=0, sigma0=1, sigma=1):\n",
    "    n = len(y)\n",
    "    y_bar = 0\n",
    "    for y_n in y:\n",
    "        y_bar += y_n\n",
    "    y_bar /= n\n",
    "\n",
    "    num_mu1 = (mu0 / (sigma0 ** 2)) + (n * y_bar / (sigma ** 2))\n",
    "    den_mu1 = (1 / (sigma0 ** 2)) + (n / (sigma ** 2))\n",
    "    mu1 = num_mu1 / den_mu1\n",
    "\n",
    "    sigma1_sq_inv = (1 / (sigma0 ** 2)) + (n / (sigma ** 2))\n",
    "    sigma1_sq = 1 / sigma1_sq_inv\n",
    "    sigma1 = np.sqrt(sigma1_sq)\n",
    "\n",
    "    return normal(mu, mu1, sigma1)"
   ]
  },
  {
   "cell_type": "markdown",
   "metadata": {},
   "source": [
    "Now, let's plot the prior, likelihood and posterior on the same graph. "
   ]
  },
  {
   "cell_type": "code",
   "execution_count": 18,
   "metadata": {},
   "outputs": [],
   "source": [
    "# x = np.linspace(5, 45, 1000)\n",
    "# y = np.random.normal(10, 5, 50)\n",
    "# prior = normal(x, 25, 5)\n",
    "# l = likelihood(x, y, 5)\n",
    "# post = posterior(x, y, 25, 5, 5)\n",
    "# plt.plot(x, prior / prior.max(), label='prior')\n",
    "# plt.plot(x, l / l.max(), label='likelihood') #\n",
    "# plt.plot(x, post / post.max(), label='posterior') #\n",
    "# plt.xlabel('x')\n",
    "# plt.ylabel('p')\n",
    "# plt.title('Bayesian Posterior Probability')\n",
    "# plt.legend()\n",
    "# plt.show()"
   ]
  },
  {
   "cell_type": "code",
   "execution_count": 17,
   "metadata": {},
   "outputs": [
    {
     "data": {
      "image/png": "[encoded data removed]",
      "text/plain": [
       "<Figure size 432x288 with 1 Axes>"
      ]
     },
     "metadata": {
      "needs_background": "light"
     },
     "output_type": "display_data"
    }
   ],
   "source": [
    "x = np.linspace(5, 45, 1000)\n",
    "y = np.random.normal(10, 5, 50)\n",
    "prior = normal(x, 25, 5)\n",
    "l = likelihood(x, y, 5)\n",
    "post = posterior(x, y, 25, 5, 5)\n",
    "plt.plot(x, prior, label='prior')\n",
    "plt.plot(x, l, label='likelihood') #\n",
    "plt.plot(x, post, label='posterior') #\n",
    "plt.xlabel('x')\n",
    "plt.ylabel('Probability Density')\n",
    "plt.title('Bayesian Posterior Probability')\n",
    "plt.legend()\n",
    "plt.show()"
   ]
  },
  {
   "cell_type": "markdown",
   "metadata": {},
   "source": [
    "## Q2. (b)\n",
    "Implement the Metropolis algorithm from the lecture slides to estimate the posterior distribution given the same prior and data and show that it converges to the analytic posterior by plotting a histogram of samples from the distribution alongside the analytic posterior distribution. Assume whatever SD (width) you want for the proposal distribution."
   ]
  },
  {
   "cell_type": "markdown",
   "metadata": {},
   "source": [
    "Metropolis-Hastings algorithm which runs for `num_iter` iterations:"
   ]
  },
  {
   "cell_type": "code",
   "execution_count": 19,
   "metadata": {},
   "outputs": [],
   "source": [
    "def metropolis_hastings(prior, likelihood, y, mu0=0, sigma0=1, sigma=1, num_iter=1000, proposal_width=1):\n",
    "    hist = [0.0]\n",
    "    mu_last = 0.0\n",
    "    for i in range(num_iter):\n",
    "        mu_curr = np.random.normal(mu_last, proposal_width)\n",
    "        r = (prior(mu_curr, mu0, sigma0) * likelihood(mu_curr, y, sigma)) / (prior(mu_last, mu0, sigma0) * likelihood(mu_last, y, sigma))\n",
    "        a = np.random.uniform(0, 1)\n",
    "        if r <= a:\n",
    "            mu_curr = mu_last\n",
    "        hist.append(mu_curr)\n",
    "        mu_last = mu_curr\n",
    "    return hist"
   ]
  },
  {
   "cell_type": "markdown",
   "metadata": {},
   "source": [
    "Let's plot the histogram we get from the Metropolis-Hastings algorithm and the posterior we calculated before to see if the Metropolis-Hastings algorithm is able to estimate the posterior distribution. The posterior is scaled to match the histogram for better observation. "
   ]
  },
  {
   "cell_type": "code",
   "execution_count": 20,
   "metadata": {},
   "outputs": [
    {
     "data": {
      "image/png": "[encoded data removed]",
      "text/plain": [
       "<Figure size 432x288 with 1 Axes>"
      ]
     },
     "metadata": {
      "needs_background": "light"
     },
     "output_type": "display_data"
    }
   ],
   "source": [
    "hist = metropolis_hastings(normal, likelihood, y, 25, 5, 5)\n",
    "x = np.linspace(0, 15, 500)\n",
    "y_hist, x_hist, _ = plt.hist(hist, 50, label='histogram')\n",
    "post = posterior(x, y, 25, 5, 5)\n",
    "plt.plot(x, post / post.max() * y_hist.max(), label='posterior')\n",
    "plt.xlabel('x')\n",
    "plt.ylabel('Probability Density')\n",
    "plt.title('Metropolis-Hastings')\n",
    "plt.legend()\n",
    "plt.show()"
   ]
  },
  {
   "cell_type": "markdown",
   "metadata": {},
   "source": [
    "As we can see, the histogram is able to estimate the posterior distribution fairly well when we took the proposal width to be 1. "
   ]
  },
  {
   "cell_type": "markdown",
   "metadata": {},
   "source": [
    "## Q2. (c)\n",
    "How does the speed of convergence of the sampling depend on the proposal width? Is there an optimal proposal width that would work best? Demonstrate the consequences of using sub-optimal proposal width and terminating sampling too soon."
   ]
  },
  {
   "cell_type": "markdown",
   "metadata": {},
   "source": [
    "Now, we will introduce `thresh` and `max_iter` in the Metropolis-Hastings algorithm to see for which proposal width the algorithm converges the fastest (takes the least number of iterations to converge). "
   ]
  },
  {
   "cell_type": "code",
   "execution_count": 23,
   "metadata": {},
   "outputs": [],
   "source": [
    "def metropolis_hastings2(prior, likelihood, y, mu0=0, sigma0=1, sigma=1, max_iter=10000, thresh=100, proposal_width=1):\n",
    "    hist = [0.0]\n",
    "    mu_last = 0.0\n",
    "    t = 0\n",
    "    t_change = 0\n",
    "    while t - t_change < thresh and t < max_iter:\n",
    "        mu_curr = np.random.normal(mu_last, proposal_width)\n",
    "        r = (prior(mu_curr, mu0, sigma0) * likelihood(mu_curr, y, sigma)) / (prior(mu_last, mu0, sigma0) * likelihood(mu_last, y, sigma))\n",
    "        a = np.random.uniform(0, 1)\n",
    "        if r <= a:\n",
    "            mu_curr = mu_last\n",
    "        hist.append(mu_curr)\n",
    "        if mu_curr != mu_last:\n",
    "            t_change = t\n",
    "        mu_last = mu_curr\n",
    "        t += 1\n",
    "    return hist, t"
   ]
  },
  {
   "cell_type": "markdown",
   "metadata": {},
   "source": [
    "Now, let's find out the optimal width using the new Metropolis-Hastings algorithm. "
   ]
  },
  {
   "cell_type": "code",
   "execution_count": 30,
   "metadata": {},
   "outputs": [],
   "source": [
    "# min_t = float('inf')\n",
    "# optimal_width = 0\n",
    "# for width in range(5, 50, 5):\n",
    "#     hist, t = metropolis_hastings2(normal, likelihood, y, 25, 5, 5, 10000, 100, width)\n",
    "#     if t < min_t:\n",
    "#         min_t = t\n",
    "#         optimal_width = width\n",
    "# print('Optimal width is', optimal_width, 'which takes', min_t, 'iterations to converge.')"
   ]
  },
  {
   "cell_type": "code",
   "execution_count": 31,
   "metadata": {
    "scrolled": false
   },
   "outputs": [
    {
     "data": {
      "image/png": "[encoded data removed]",
      "text/plain": [
       "<Figure size 432x288 with 1 Axes>"
      ]
     },
     "metadata": {
      "needs_background": "light"
     },
     "output_type": "display_data"
    },
    {
     "name": "stdout",
     "output_type": "stream",
     "text": [
      "No. of iterations with proposal width 5: 10000\n"
     ]
    },
    {
     "data": {
      "image/png": "[encoded data removed]",
      "text/plain": [
       "<Figure size 432x288 with 1 Axes>"
      ]
     },
     "metadata": {
      "needs_background": "light"
     },
     "output_type": "display_data"
    },
    {
     "name": "stdout",
     "output_type": "stream",
     "text": [
      "No. of iterations with proposal width 10: 10000\n"
     ]
    },
    {
     "data": {
      "image/png": "[encoded data removed]",
      "text/plain": [
       "<Figure size 432x288 with 1 Axes>"
      ]
     },
     "metadata": {
      "needs_background": "light"
     },
     "output_type": "display_data"
    },
    {
     "name": "stdout",
     "output_type": "stream",
     "text": [
      "No. of iterations with proposal width 15: 2462\n"
     ]
    },
    {
     "data": {
      "image/png": "[encoded data removed]",
      "text/plain": [
       "<Figure size 432x288 with 1 Axes>"
      ]
     },
     "metadata": {
      "needs_background": "light"
     },
     "output_type": "display_data"
    },
    {
     "name": "stdout",
     "output_type": "stream",
     "text": [
      "No. of iterations with proposal width 20: 998\n"
     ]
    },
    {
     "data": {
      "image/png": "[encoded data removed]",
      "text/plain": [
       "<Figure size 432x288 with 1 Axes>"
      ]
     },
     "metadata": {
      "needs_background": "light"
     },
     "output_type": "display_data"
    },
    {
     "name": "stdout",
     "output_type": "stream",
     "text": [
      "No. of iterations with proposal width 25: 1221\n"
     ]
    },
    {
     "data": {
      "image/png": "[encoded data removed]",
      "text/plain": [
       "<Figure size 432x288 with 1 Axes>"
      ]
     },
     "metadata": {
      "needs_background": "light"
     },
     "output_type": "display_data"
    },
    {
     "name": "stdout",
     "output_type": "stream",
     "text": [
      "No. of iterations with proposal width 30: 409\n"
     ]
    },
    {
     "data": {
      "image/png": "[encoded data removed]",
      "text/plain": [
       "<Figure size 432x288 with 1 Axes>"
      ]
     },
     "metadata": {
      "needs_background": "light"
     },
     "output_type": "display_data"
    },
    {
     "name": "stdout",
     "output_type": "stream",
     "text": [
      "No. of iterations with proposal width 35: 105\n"
     ]
    },
    {
     "data": {
      "image/png": "[encoded data removed]",
      "text/plain": [
       "<Figure size 432x288 with 1 Axes>"
      ]
     },
     "metadata": {
      "needs_background": "light"
     },
     "output_type": "display_data"
    },
    {
     "name": "stdout",
     "output_type": "stream",
     "text": [
      "No. of iterations with proposal width 40: 141\n"
     ]
    },
    {
     "data": {
      "image/png": "[encoded data removed]",
      "text/plain": [
       "<Figure size 432x288 with 1 Axes>"
      ]
     },
     "metadata": {
      "needs_background": "light"
     },
     "output_type": "display_data"
    },
    {
     "name": "stdout",
     "output_type": "stream",
     "text": [
      "No. of iterations with proposal width 45: 156\n",
      "\n",
      "Optimal width is 35 which takes 105 iterations to converge.\n"
     ]
    }
   ],
   "source": [
    "min_t = float('inf')\n",
    "optimal_width = 0\n",
    "x = np.linspace(0, 15, 500)\n",
    "post = posterior(x, y, 25, 5, 5)\n",
    "for width in range(5, 50, 5):\n",
    "    hist, t = metropolis_hastings2(normal, likelihood, y, 25, 5, 5, 10000, 100, width)\n",
    "    y_hist, x_hist, _ = plt.hist(hist, 50, range=(0, 20), label='histogram')\n",
    "    plt.plot(x, post / post.max() * y_hist.max(), label='posterior')\n",
    "    plt.xlim([5, 15])\n",
    "    plt.xlabel('x')\n",
    "    plt.ylabel('Probability Density')\n",
    "    plt.title(f'Metropolis-Hastings with proposal width {width}')\n",
    "    plt.legend()\n",
    "    plt.show()\n",
    "    print(f'No. of iterations with proposal width {width}: {t}')\n",
    "    if t < min_t:\n",
    "        min_t = t\n",
    "        optimal_width = width\n",
    "print()\n",
    "print('Optimal width is', optimal_width, 'which takes', min_t, 'iterations to converge.')"
   ]
  },
  {
   "cell_type": "markdown",
   "metadata": {},
   "source": [
    "Now, let's plot the histogram using the optimal width to see if the algorithm is able to estimate the posterior distribution properly. "
   ]
  },
  {
   "cell_type": "code",
   "execution_count": 32,
   "metadata": {},
   "outputs": [
    {
     "data": {
      "image/png": "[encoded data removed]",
      "text/plain": [
       "<Figure size 432x288 with 1 Axes>"
      ]
     },
     "metadata": {
      "needs_background": "light"
     },
     "output_type": "display_data"
    }
   ],
   "source": [
    "hist, t = metropolis_hastings2(normal, likelihood, y, 25, 5, 5, 10000, 100, optimal_width)\n",
    "x = np.linspace(0, 15, 500)\n",
    "y_hist, x_hist, _ = plt.hist(hist, 50, range=(0, 20), label='histogram')\n",
    "post = posterior(x, y, 25, 5, 5)\n",
    "plt.plot(x, post / post.max() * y_hist.max(), label='posterior')\n",
    "plt.xlim([5, 15])\n",
    "plt.xlabel('x')\n",
    "plt.ylabel('p')\n",
    "plt.title('Metropolis-Hastings')\n",
    "plt.legend()\n",
    "plt.show()"
   ]
  },
  {
   "cell_type": "markdown",
   "metadata": {},
   "source": [
    "As we can see, using a proposal width, the algorithm takes the least number of iterations to converge. But the histogram is not able to estimate the posterior distribution properly, as there are too little samples to create the histogram. \n",
    "\n",
    "On the other hand, using a sub-optimal proposal width, although takes more time to converge, but gives a lot of samples and hence creates a much better histogram which is able to estimate the posterior distribution properly as we say before. \n",
    "\n",
    "So, there is a tradeoff between the speed of convergence and the accuracy of the histogram in estimation of the posterior distribution. "
   ]
  }
 ],
 "metadata": {
  "interpreter": {
   "hash": "31f2aee4e71d21fbe5cf8b01ff0e069b9275f58929596ceb00d14d90e3e16cd6"
  },
  "kernelspec": {
   "display_name": "Python 3 (ipykernel)",
   "language": "python",
   "name": "python3"
  },
  "language_info": {
   "codemirror_mode": {
    "name": "ipython",
    "version": 3
   },
   "file_extension": ".py",
   "mimetype": "text/x-python",
   "name": "python",
   "nbconvert_exporter": "python",
   "pygments_lexer": "ipython3",
   "version": "3.6.8"
  }
 },
 "nbformat": 4,
 "nbformat_minor": 2
}
